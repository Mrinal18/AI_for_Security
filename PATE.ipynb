{
  "nbformat": 4,
  "nbformat_minor": 0,
  "metadata": {
    "colab": {
      "name": "PATE.ipynb",
      "private_outputs": true,
      "provenance": [],
      "machine_shape": "hm",
      "authorship_tag": "ABX9TyMueFw/a57PsdUWXN20AVNm",
      "include_colab_link": true
    },
    "kernelspec": {
      "name": "python3",
      "display_name": "Python 3"
    },
    "language_info": {
      "name": "python"
    },
    "accelerator": "GPU"
  },
  "cells": [
    {
      "cell_type": "markdown",
      "metadata": {
        "id": "view-in-github",
        "colab_type": "text"
      },
      "source": [
        "<a href=\"https://colab.research.google.com/github/Mrinal18/AI_for_Security/blob/main/PATE.ipynb\" target=\"_parent\"><img src=\"https://colab.research.google.com/assets/colab-badge.svg\" alt=\"Open In Colab\"/></a>"
      ]
    },
    {
      "cell_type": "code",
      "metadata": {
        "id": "M0wqA4JflsWb"
      },
      "source": [
        "!pip install pate"
      ],
      "execution_count": null,
      "outputs": []
    },
    {
      "cell_type": "code",
      "metadata": {
        "id": "x_LT2eMxqCve"
      },
      "source": [
        "import tensorflow as tf\n",
        "from tensorflow import keras\n",
        "import numpy as np\n",
        "\n",
        "n_instances = 500 \n",
        "n_teachers = 3\n",
        "\n",
        "# load data and transform it for cifar100\n",
        "(x_train, y_train), (x_test, y_test) = keras.datasets.cifar100.load_data()\n",
        "\n",
        "x_train = x_train.astype( np.float32 ) / 255\n",
        "x_test = x_test.astype( np.float32 ) / 255\n",
        "\n",
        "x_train = x_train.reshape( -1, 32, 32, 3 )\n",
        "x_test = x_test.reshape( -1, 32, 32, 3 )\n",
        "\n",
        "y_train = keras.utils.to_categorical( y_train )\n",
        "y_test = keras.utils.to_categorical( y_test )\n",
        "\n",
        "# shuffle data\n",
        "idx = np.random.permutation( x_train.shape[ 0 ] )\n",
        "np.random.seed( 42 )\n",
        "x_train = x_train[ idx ]\n",
        "y_train = y_train[ idx ]\n",
        "\n",
        "# gather the teacher data\n",
        "teacher_data_x = [ x_train[ i * n_instances : (i + 1) * n_instances ] for i in range( n_teachers ) ]\n",
        "teacher_data_y = [ y_train[ i * n_instances : ( i + 1 ) * n_instances ] for i in range( n_teachers ) ]\n",
        "\n",
        "# gather the student data\n",
        "student_data_x = x_train[ n_teachers * n_instances : ( n_teachers + 1 ) * n_instances ]  \n",
        "student_data_y = y_train[ n_teachers * n_instances : ( n_teachers + 1 ) * n_instances ]  \n"
      ],
      "execution_count": null,
      "outputs": []
    },
    {
      "cell_type": "code",
      "metadata": {
        "id": "pHhY_hnetnBg"
      },
      "source": [
        "## train the teacher models\n",
        "# train the teacher models\n",
        "def get_model():\n",
        "    model = keras.models.Sequential()\n",
        "    model.add( keras.layers.Conv2D( 32, kernel_size=(3, 3), activation='relu', input_shape=x_train.shape[ 1: ]  ) )\n",
        "    model.add( keras.layers.MaxPooling2D( pool_size=(2, 2) ) )\n",
        "    model.add( keras.layers.Conv2D( 64, kernel_size=(3, 3), activation='relu' ) )\n",
        "    model.add( keras.layers.Flatten() )\n",
        "    model.add( keras.layers.Dense( 128, activation='relu' ) )\n",
        "    model.add( keras.layers.Dense( 10, activation='softmax' ) )\n",
        "    return model\n",
        "\n",
        "# list of teacher models\n",
        "teacher_models = [ get_model() for i in range( n_teachers ) ]\n",
        "\n",
        "# train teacher models\n",
        "for i in range( n_teachers ):\n",
        "    teacher_models[ i ].compile( loss=keras.losses.sparse_categorical_crossentropy, optimizer=keras.optimizers.Adadelta(), metrics=['accuracy'] )\n",
        "    teacher_models[ i ].fit( teacher_data_x[ i ], teacher_data_y[ i ], batch_size=128, epochs=10, verbose=1, validation_data=( x_test, y_test ) )"
      ],
      "execution_count": null,
      "outputs": []
    },
    {
      "cell_type": "code",
      "metadata": {
        "id": "9_kX6_Djt9R4"
      },
      "source": [
        ""
      ],
      "execution_count": null,
      "outputs": []
    }
  ]
}